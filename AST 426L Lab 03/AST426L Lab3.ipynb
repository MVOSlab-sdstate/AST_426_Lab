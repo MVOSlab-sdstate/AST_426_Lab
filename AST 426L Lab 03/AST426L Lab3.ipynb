{
  "cells": [
    {
      "cell_type": "markdown",
      "metadata": {
        "id": "f7GKb7GXZmmn"
      },
      "source": [
        "\n",
        "<table class=\"ee-notebook-buttons\" align=\"left\">\n",
        "    <td><a target=\"_parent\"  href=\"https://github.com/MVOSlab-sdstate/AST426_Lab/blob/main/AST%20426L%20Lab%2003/AST426L%20Lab3.ipynb\"><img width=32px src=\"https://www.tensorflow.org/images/GitHub-Mark-32px.png\" /> View source on GitHub</a></td>\n",
        "    <td><a target=\"_parent\"  href=\"https://nbviewer.org/github/MVOSlab-sdstate/AST426_Lab/blob/main/AST%20426L%20Lab%2003/AST426L%20Lab3.ipynb\"><img width=26px src=\"https://upload.wikimedia.org/wikipedia/commons/thumb/3/38/Jupyter_logo.svg/883px-Jupyter_logo.svg.png\" />Notebook Viewer</a></td>\n",
        "    <td><a target=\"_parent\"  href=\"https://colab.research.google.com/github/MVOSlab-sdstate/AST426_Lab/blob/main/AST%20426L%20Lab%2003/AST426L%20Lab3.ipynb\"><img width=26px src=\"https://www.tensorflow.org/images/colab_logo_32px.png\" /> Run in Google Colab</a></td>\n",
        "    </table>"
      ]
    },
    {
      "cell_type": "markdown",
      "source": [
        "<p style=\"font-family: 'Georgia'; font-size: large;\">Install the `sentinelhub` library. </p>"
      ],
      "metadata": {
        "id": "kQBLnHqg61Sn"
      }
    },
    {
      "cell_type": "code",
      "execution_count": null,
      "metadata": {
        "id": "BL8CxZSxcZC3"
      },
      "outputs": [],
      "source": [
        "!pip install sentinelhub"
      ]
    },
    {
      "cell_type": "markdown",
      "source": [
        "<p style=\"font-family: 'Georgia'; font-size: large;\">Import required modules for Sentinel Hub and data visualization. </p>"
      ],
      "metadata": {
        "id": "3p-QiHkZ6_7t"
      }
    },
    {
      "cell_type": "code",
      "execution_count": null,
      "metadata": {
        "id": "n5HdLtk-eAYg"
      },
      "outputs": [],
      "source": [
        "from sentinelhub import SHConfig, SentinelHubRequest, DataCollection, MimeType, CRS, BBox\n",
        "import matplotlib.pyplot as plt\n",
        "import numpy as np"
      ]
    },
    {
      "cell_type": "markdown",
      "metadata": {
        "id": "SLf3rPvaf5PT"
      },
      "source": [
        "<p style=\"font-family: 'Georgia'; font-size:X-large;\">\n",
        "  To get this, first log in to the dashboard of your Sentinel-hub account and follow the steps at the following link:\n",
        "  <a href=\"https://docs.sentinel-hub.com/api/latest/api/overview/authentication/\">Sentinel Hub</a>\n",
        "</p>"
      ]
    },
    {
      "cell_type": "markdown",
      "source": [
        "<p style=\"font-family: 'Georgia'; font-size: large;\">Configure Sentinel Hub with client credentials.</p>"
      ],
      "metadata": {
        "id": "E2y_2_b5ZZ7K"
      }
    },
    {
      "cell_type": "code",
      "execution_count": null,
      "metadata": {
        "id": "0um1VD9deCbw"
      },
      "outputs": [],
      "source": [
        "config = SHConfig()\n",
        "\n",
        "# Replace with your actual client ID and secret from SentinelHub\n",
        "config.sh_client_id = 'Your client ID'    #Your client id\n",
        "config.sh_client_secret = 'Your Client Secret'    #your client secret"
      ]
    },
    {
      "cell_type": "markdown",
      "source": [
        "<p style=\"font-family: 'Georgia'; font-size: large;\">Checks and warns if credentials are missing.</p>"
      ],
      "metadata": {
        "id": "dlPRDRV2Zpd4"
      }
    },
    {
      "cell_type": "code",
      "execution_count": null,
      "metadata": {
        "id": "rI0jOgUVeJTz"
      },
      "outputs": [],
      "source": [
        "if not config.sh_client_id or not config.sh_client_secret:\n",
        "    print(\"Warning: please provide the credentials (client ID and secret)!\")"
      ]
    },
    {
      "cell_type": "markdown",
      "metadata": {
        "id": "pPWl8BFhgQy2"
      },
      "source": [
        "<p style=\"font-family: 'Georgia'; font-size: X-large;\"> For this go, to maps.google.com and find a farm near Aurora, SD then click and choose two GPS coordinates in such a way that the first one is for top left corner of the field and the second one is bottom right corner of the field. The order of the GPS coordinates will be reversed when copid from maps.google.com. You should first put the longitude, latitude, longitude, latitude. </p>"
      ]
    },
    {
      "cell_type": "markdown",
      "source": [
        "<p style=\"font-family: 'Georgia'; font-size: large;\">Defines the area of interest (AOI) using latitude and longitude.</p>"
      ],
      "metadata": {
        "id": "iMWokV4iZ8lk"
      }
    },
    {
      "cell_type": "code",
      "execution_count": null,
      "metadata": {
        "id": "imbM6k5deL_s"
      },
      "outputs": [],
      "source": [
        "# Define your area of interest (AOI)\n",
        "bbox = BBox(bbox=[-96.687623,44.275802, -96.677689, 44.266921,], crs=CRS.WGS84)  # Example field in lat/long"
      ]
    },
    {
      "cell_type": "markdown",
      "source": [
        "<p style=\"font-family: 'Georgia'; font-size: large;\">Requests and displays a true-color Sentinel-2 image.</p>"
      ],
      "metadata": {
        "id": "HjTHLGYQaM4B"
      }
    },
    {
      "cell_type": "code",
      "execution_count": null,
      "metadata": {
        "id": "59s6lpo9eNzv"
      },
      "outputs": [],
      "source": [
        "from sentinelhub import bbox_to_dimensions\n",
        "\n",
        "# Request a true color image from Sentinel-2\n",
        "request_true_color = SentinelHubRequest(\n",
        "    evalscript=\"\"\"\n",
        "    //VERSION=3\n",
        "    function setup() {\n",
        "      return {\n",
        "        input: [\"B04\", \"B03\", \"B02\"],\n",
        "        output: { bands: 3 }\n",
        "      };\n",
        "    }\n",
        "\n",
        "    function evaluatePixel(sample) {\n",
        "      return [2.5 * sample.B04, 2.5 * sample.B03, 2.5 * sample.B02];\n",
        "    }\n",
        "    \"\"\",\n",
        "    input_data=[\n",
        "        SentinelHubRequest.input_data(\n",
        "            data_collection=DataCollection.SENTINEL2_L1C,\n",
        "            time_interval=('2023-06-01', '2023-06-30')\n",
        "        )\n",
        "    ],\n",
        "    responses=[\n",
        "        SentinelHubRequest.output_response('default', MimeType.PNG)\n",
        "    ],\n",
        "    bbox=bbox,\n",
        "    size=bbox_to_dimensions(bbox, resolution=10),  # 10m resolution\n",
        "    config=config\n",
        ")\n",
        "\n",
        "# Fetch the true-color image\n",
        "true_color_image = request_true_color.get_data()[0]\n",
        "\n",
        "# Display the image\n",
        "plt.imshow(true_color_image)\n",
        "plt.title('True Color Image - Sentinel-2')\n",
        "plt.axis('off')\n",
        "plt.show()"
      ]
    },
    {
      "cell_type": "markdown",
      "source": [
        "<p style=\"font-family: 'Georgia'; font-size: large;\">Requests, fetches, and displays an NDVI map from Sentinel-2.</p>"
      ],
      "metadata": {
        "id": "KmQnX_lFaeqk"
      }
    },
    {
      "cell_type": "code",
      "execution_count": null,
      "metadata": {
        "id": "E1tnTN6fePiF"
      },
      "outputs": [],
      "source": [
        "request_ndvi = SentinelHubRequest(\n",
        "    evalscript=\"\"\"\n",
        "    //VERSION=3\n",
        "    function setup() {\n",
        "      return {\n",
        "        input: [\"B08\", \"B04\"],\n",
        "        output: { bands: 1 }\n",
        "      };\n",
        "    }\n",
        "\n",
        "    function evaluatePixel(sample) {\n",
        "      let ndvi = (sample.B08 - sample.B04) / (sample.B08 + sample.B04);\n",
        "      return [ndvi];\n",
        "    }\n",
        "    \"\"\",\n",
        "    input_data=[\n",
        "        SentinelHubRequest.input_data(\n",
        "            data_collection=DataCollection.SENTINEL2_L1C,\n",
        "            time_interval=('2023-06-01', '2023-06-30')\n",
        "        )\n",
        "    ],\n",
        "    responses=[\n",
        "        SentinelHubRequest.output_response('default', MimeType.TIFF)\n",
        "    ],\n",
        "    bbox=bbox,\n",
        "    size=bbox_to_dimensions(bbox, resolution=10),\n",
        "    config=config\n",
        ")\n",
        "\n",
        "# Fetch NDVI data\n",
        "ndvi_image = request_ndvi.get_data()[0]\n",
        "\n",
        "# Display NDVI\n",
        "plt.imshow(ndvi_image, cmap='RdYlGn')\n",
        "plt.colorbar()\n",
        "plt.title('NDVI Map for your chosen farm using the Sentinel-2 satellite data')\n",
        "plt.axis('off')\n",
        "plt.show()"
      ]
    }
  ],
  "metadata": {
    "colab": {
      "provenance": []
    },
    "kernelspec": {
      "display_name": "Python 3",
      "language": "python",
      "name": "python3"
    },
    "language_info": {
      "codemirror_mode": {
        "name": "ipython",
        "version": 3
      },
      "file_extension": ".py",
      "mimetype": "text/x-python",
      "name": "python",
      "nbconvert_exporter": "python",
      "pygments_lexer": "ipython3",
      "version": "3.13.1"
    }
  },
  "nbformat": 4,
  "nbformat_minor": 0
}